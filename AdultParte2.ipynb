{
  "nbformat": 4,
  "nbformat_minor": 0,
  "metadata": {
    "colab": {
      "provenance": []
    },
    "kernelspec": {
      "name": "python3",
      "display_name": "Python 3"
    },
    "language_info": {
      "name": "python"
    }
  },
  "cells": [
    {
      "cell_type": "code",
      "source": [
        "from google.colab import drive\n",
        "drive.mount('/content/drive')"
      ],
      "metadata": {
        "colab": {
          "base_uri": "https://localhost:8080/"
        },
        "id": "1NeR4-wUyX6Q",
        "outputId": "7872384d-68f1-4998-dc45-b8500e7c977b"
      },
      "execution_count": null,
      "outputs": [
        {
          "output_type": "stream",
          "name": "stdout",
          "text": [
            "Mounted at /content/drive\n"
          ]
        }
      ]
    },
    {
      "cell_type": "code",
      "source": [
        "import pandas as pd\n",
        "import matplotlib as plt\n",
        "import seaborn as sns\n",
        "import os\n",
        "\n",
        "\n",
        "import numpy as np\n",
        "import math as mat\n",
        "\n",
        "%matplotlib inline\n",
        "from sklearn.preprocessing import LabelEncoder"
      ],
      "metadata": {
        "id": "L6Ur_XjLzBDm"
      },
      "execution_count": null,
      "outputs": []
    },
    {
      "cell_type": "code",
      "source": [
        "data=pd.read_csv(\"/content/drive/MyDrive/proyecto data sciense/Adult_Limpio.csv\")"
      ],
      "metadata": {
        "id": "JtR7v8fby68g"
      },
      "execution_count": null,
      "outputs": []
    },
    {
      "cell_type": "code",
      "source": [
        "data"
      ],
      "metadata": {
        "colab": {
          "base_uri": "https://localhost:8080/",
          "height": 443
        },
        "id": "kONquIh_yvbu",
        "outputId": "a6b9ad68-89ad-401f-d4ed-c388afa90478"
      },
      "execution_count": null,
      "outputs": [
        {
          "output_type": "execute_result",
          "data": {
            "text/plain": [
              "       age  workclass     fnlwgt  education  education.num  marital.status  \\\n",
              "0       82          2 -62374.625         11              9               6   \n",
              "1       54          2 -62374.625          5              4               0   \n",
              "2       41          2 -62374.625         15             10               5   \n",
              "3       34          2 -62374.625         11              9               0   \n",
              "4       38          2 -62374.625          0              6               5   \n",
              "...    ...        ...        ...        ...            ...             ...   \n",
              "30157   22          2 -62374.625         15             10               4   \n",
              "30158   27          2 -62374.625          7             12               2   \n",
              "30159   40          2 -62374.625         11              9               2   \n",
              "30160   58          2 -62374.625         11              9               6   \n",
              "30161   22          2 -62374.625         11              9               4   \n",
              "\n",
              "       occupation  relationship  race  sex  capital.gain  capital.loss  \\\n",
              "0               3             1     4    0             0          4356   \n",
              "1               6             4     4    0             0          3900   \n",
              "2               9             3     4    0             0          3900   \n",
              "3               7             4     4    0             0          3770   \n",
              "4               0             4     4    1             0          3770   \n",
              "...           ...           ...   ...  ...           ...           ...   \n",
              "30157          10             1     4    1             0             0   \n",
              "30158          12             5     4    0             0             0   \n",
              "30159           6             0     4    1             0             0   \n",
              "30160           0             4     4    0             0             0   \n",
              "30161           0             3     4    1             0             0   \n",
              "\n",
              "       hours.per.week  native.country  income  \n",
              "0                52.5              38      -1  \n",
              "1                32.5              38      -1  \n",
              "2                32.5              38      -1  \n",
              "3                32.5              38      -1  \n",
              "4                32.5              38      -1  \n",
              "...               ...             ...     ...  \n",
              "30157            32.5              38      -1  \n",
              "30158            32.5              38      -1  \n",
              "30159            32.5              38       1  \n",
              "30160            32.5              38      -1  \n",
              "30161            52.5              38      -1  \n",
              "\n",
              "[30162 rows x 15 columns]"
            ],
            "text/html": [
              "\n",
              "  <div id=\"df-ded0c25d-425a-457e-a11e-da9096e72995\" class=\"colab-df-container\">\n",
              "    <div>\n",
              "<style scoped>\n",
              "    .dataframe tbody tr th:only-of-type {\n",
              "        vertical-align: middle;\n",
              "    }\n",
              "\n",
              "    .dataframe tbody tr th {\n",
              "        vertical-align: top;\n",
              "    }\n",
              "\n",
              "    .dataframe thead th {\n",
              "        text-align: right;\n",
              "    }\n",
              "</style>\n",
              "<table border=\"1\" class=\"dataframe\">\n",
              "  <thead>\n",
              "    <tr style=\"text-align: right;\">\n",
              "      <th></th>\n",
              "      <th>age</th>\n",
              "      <th>workclass</th>\n",
              "      <th>fnlwgt</th>\n",
              "      <th>education</th>\n",
              "      <th>education.num</th>\n",
              "      <th>marital.status</th>\n",
              "      <th>occupation</th>\n",
              "      <th>relationship</th>\n",
              "      <th>race</th>\n",
              "      <th>sex</th>\n",
              "      <th>capital.gain</th>\n",
              "      <th>capital.loss</th>\n",
              "      <th>hours.per.week</th>\n",
              "      <th>native.country</th>\n",
              "      <th>income</th>\n",
              "    </tr>\n",
              "  </thead>\n",
              "  <tbody>\n",
              "    <tr>\n",
              "      <th>0</th>\n",
              "      <td>82</td>\n",
              "      <td>2</td>\n",
              "      <td>-62374.625</td>\n",
              "      <td>11</td>\n",
              "      <td>9</td>\n",
              "      <td>6</td>\n",
              "      <td>3</td>\n",
              "      <td>1</td>\n",
              "      <td>4</td>\n",
              "      <td>0</td>\n",
              "      <td>0</td>\n",
              "      <td>4356</td>\n",
              "      <td>52.5</td>\n",
              "      <td>38</td>\n",
              "      <td>-1</td>\n",
              "    </tr>\n",
              "    <tr>\n",
              "      <th>1</th>\n",
              "      <td>54</td>\n",
              "      <td>2</td>\n",
              "      <td>-62374.625</td>\n",
              "      <td>5</td>\n",
              "      <td>4</td>\n",
              "      <td>0</td>\n",
              "      <td>6</td>\n",
              "      <td>4</td>\n",
              "      <td>4</td>\n",
              "      <td>0</td>\n",
              "      <td>0</td>\n",
              "      <td>3900</td>\n",
              "      <td>32.5</td>\n",
              "      <td>38</td>\n",
              "      <td>-1</td>\n",
              "    </tr>\n",
              "    <tr>\n",
              "      <th>2</th>\n",
              "      <td>41</td>\n",
              "      <td>2</td>\n",
              "      <td>-62374.625</td>\n",
              "      <td>15</td>\n",
              "      <td>10</td>\n",
              "      <td>5</td>\n",
              "      <td>9</td>\n",
              "      <td>3</td>\n",
              "      <td>4</td>\n",
              "      <td>0</td>\n",
              "      <td>0</td>\n",
              "      <td>3900</td>\n",
              "      <td>32.5</td>\n",
              "      <td>38</td>\n",
              "      <td>-1</td>\n",
              "    </tr>\n",
              "    <tr>\n",
              "      <th>3</th>\n",
              "      <td>34</td>\n",
              "      <td>2</td>\n",
              "      <td>-62374.625</td>\n",
              "      <td>11</td>\n",
              "      <td>9</td>\n",
              "      <td>0</td>\n",
              "      <td>7</td>\n",
              "      <td>4</td>\n",
              "      <td>4</td>\n",
              "      <td>0</td>\n",
              "      <td>0</td>\n",
              "      <td>3770</td>\n",
              "      <td>32.5</td>\n",
              "      <td>38</td>\n",
              "      <td>-1</td>\n",
              "    </tr>\n",
              "    <tr>\n",
              "      <th>4</th>\n",
              "      <td>38</td>\n",
              "      <td>2</td>\n",
              "      <td>-62374.625</td>\n",
              "      <td>0</td>\n",
              "      <td>6</td>\n",
              "      <td>5</td>\n",
              "      <td>0</td>\n",
              "      <td>4</td>\n",
              "      <td>4</td>\n",
              "      <td>1</td>\n",
              "      <td>0</td>\n",
              "      <td>3770</td>\n",
              "      <td>32.5</td>\n",
              "      <td>38</td>\n",
              "      <td>-1</td>\n",
              "    </tr>\n",
              "    <tr>\n",
              "      <th>...</th>\n",
              "      <td>...</td>\n",
              "      <td>...</td>\n",
              "      <td>...</td>\n",
              "      <td>...</td>\n",
              "      <td>...</td>\n",
              "      <td>...</td>\n",
              "      <td>...</td>\n",
              "      <td>...</td>\n",
              "      <td>...</td>\n",
              "      <td>...</td>\n",
              "      <td>...</td>\n",
              "      <td>...</td>\n",
              "      <td>...</td>\n",
              "      <td>...</td>\n",
              "      <td>...</td>\n",
              "    </tr>\n",
              "    <tr>\n",
              "      <th>30157</th>\n",
              "      <td>22</td>\n",
              "      <td>2</td>\n",
              "      <td>-62374.625</td>\n",
              "      <td>15</td>\n",
              "      <td>10</td>\n",
              "      <td>4</td>\n",
              "      <td>10</td>\n",
              "      <td>1</td>\n",
              "      <td>4</td>\n",
              "      <td>1</td>\n",
              "      <td>0</td>\n",
              "      <td>0</td>\n",
              "      <td>32.5</td>\n",
              "      <td>38</td>\n",
              "      <td>-1</td>\n",
              "    </tr>\n",
              "    <tr>\n",
              "      <th>30158</th>\n",
              "      <td>27</td>\n",
              "      <td>2</td>\n",
              "      <td>-62374.625</td>\n",
              "      <td>7</td>\n",
              "      <td>12</td>\n",
              "      <td>2</td>\n",
              "      <td>12</td>\n",
              "      <td>5</td>\n",
              "      <td>4</td>\n",
              "      <td>0</td>\n",
              "      <td>0</td>\n",
              "      <td>0</td>\n",
              "      <td>32.5</td>\n",
              "      <td>38</td>\n",
              "      <td>-1</td>\n",
              "    </tr>\n",
              "    <tr>\n",
              "      <th>30159</th>\n",
              "      <td>40</td>\n",
              "      <td>2</td>\n",
              "      <td>-62374.625</td>\n",
              "      <td>11</td>\n",
              "      <td>9</td>\n",
              "      <td>2</td>\n",
              "      <td>6</td>\n",
              "      <td>0</td>\n",
              "      <td>4</td>\n",
              "      <td>1</td>\n",
              "      <td>0</td>\n",
              "      <td>0</td>\n",
              "      <td>32.5</td>\n",
              "      <td>38</td>\n",
              "      <td>1</td>\n",
              "    </tr>\n",
              "    <tr>\n",
              "      <th>30160</th>\n",
              "      <td>58</td>\n",
              "      <td>2</td>\n",
              "      <td>-62374.625</td>\n",
              "      <td>11</td>\n",
              "      <td>9</td>\n",
              "      <td>6</td>\n",
              "      <td>0</td>\n",
              "      <td>4</td>\n",
              "      <td>4</td>\n",
              "      <td>0</td>\n",
              "      <td>0</td>\n",
              "      <td>0</td>\n",
              "      <td>32.5</td>\n",
              "      <td>38</td>\n",
              "      <td>-1</td>\n",
              "    </tr>\n",
              "    <tr>\n",
              "      <th>30161</th>\n",
              "      <td>22</td>\n",
              "      <td>2</td>\n",
              "      <td>-62374.625</td>\n",
              "      <td>11</td>\n",
              "      <td>9</td>\n",
              "      <td>4</td>\n",
              "      <td>0</td>\n",
              "      <td>3</td>\n",
              "      <td>4</td>\n",
              "      <td>1</td>\n",
              "      <td>0</td>\n",
              "      <td>0</td>\n",
              "      <td>52.5</td>\n",
              "      <td>38</td>\n",
              "      <td>-1</td>\n",
              "    </tr>\n",
              "  </tbody>\n",
              "</table>\n",
              "<p>30162 rows × 15 columns</p>\n",
              "</div>\n",
              "    <div class=\"colab-df-buttons\">\n",
              "\n",
              "  <div class=\"colab-df-container\">\n",
              "    <button class=\"colab-df-convert\" onclick=\"convertToInteractive('df-ded0c25d-425a-457e-a11e-da9096e72995')\"\n",
              "            title=\"Convert this dataframe to an interactive table.\"\n",
              "            style=\"display:none;\">\n",
              "\n",
              "  <svg xmlns=\"http://www.w3.org/2000/svg\" height=\"24px\" viewBox=\"0 -960 960 960\">\n",
              "    <path d=\"M120-120v-720h720v720H120Zm60-500h600v-160H180v160Zm220 220h160v-160H400v160Zm0 220h160v-160H400v160ZM180-400h160v-160H180v160Zm440 0h160v-160H620v160ZM180-180h160v-160H180v160Zm440 0h160v-160H620v160Z\"/>\n",
              "  </svg>\n",
              "    </button>\n",
              "\n",
              "  <style>\n",
              "    .colab-df-container {\n",
              "      display:flex;\n",
              "      gap: 12px;\n",
              "    }\n",
              "\n",
              "    .colab-df-convert {\n",
              "      background-color: #E8F0FE;\n",
              "      border: none;\n",
              "      border-radius: 50%;\n",
              "      cursor: pointer;\n",
              "      display: none;\n",
              "      fill: #1967D2;\n",
              "      height: 32px;\n",
              "      padding: 0 0 0 0;\n",
              "      width: 32px;\n",
              "    }\n",
              "\n",
              "    .colab-df-convert:hover {\n",
              "      background-color: #E2EBFA;\n",
              "      box-shadow: 0px 1px 2px rgba(60, 64, 67, 0.3), 0px 1px 3px 1px rgba(60, 64, 67, 0.15);\n",
              "      fill: #174EA6;\n",
              "    }\n",
              "\n",
              "    .colab-df-buttons div {\n",
              "      margin-bottom: 4px;\n",
              "    }\n",
              "\n",
              "    [theme=dark] .colab-df-convert {\n",
              "      background-color: #3B4455;\n",
              "      fill: #D2E3FC;\n",
              "    }\n",
              "\n",
              "    [theme=dark] .colab-df-convert:hover {\n",
              "      background-color: #434B5C;\n",
              "      box-shadow: 0px 1px 3px 1px rgba(0, 0, 0, 0.15);\n",
              "      filter: drop-shadow(0px 1px 2px rgba(0, 0, 0, 0.3));\n",
              "      fill: #FFFFFF;\n",
              "    }\n",
              "  </style>\n",
              "\n",
              "    <script>\n",
              "      const buttonEl =\n",
              "        document.querySelector('#df-ded0c25d-425a-457e-a11e-da9096e72995 button.colab-df-convert');\n",
              "      buttonEl.style.display =\n",
              "        google.colab.kernel.accessAllowed ? 'block' : 'none';\n",
              "\n",
              "      async function convertToInteractive(key) {\n",
              "        const element = document.querySelector('#df-ded0c25d-425a-457e-a11e-da9096e72995');\n",
              "        const dataTable =\n",
              "          await google.colab.kernel.invokeFunction('convertToInteractive',\n",
              "                                                    [key], {});\n",
              "        if (!dataTable) return;\n",
              "\n",
              "        const docLinkHtml = 'Like what you see? Visit the ' +\n",
              "          '<a target=\"_blank\" href=https://colab.research.google.com/notebooks/data_table.ipynb>data table notebook</a>'\n",
              "          + ' to learn more about interactive tables.';\n",
              "        element.innerHTML = '';\n",
              "        dataTable['output_type'] = 'display_data';\n",
              "        await google.colab.output.renderOutput(dataTable, element);\n",
              "        const docLink = document.createElement('div');\n",
              "        docLink.innerHTML = docLinkHtml;\n",
              "        element.appendChild(docLink);\n",
              "      }\n",
              "    </script>\n",
              "  </div>\n",
              "\n",
              "\n",
              "<div id=\"df-6e271d01-2d30-4a72-9518-6de1ae09bcfc\">\n",
              "  <button class=\"colab-df-quickchart\" onclick=\"quickchart('df-6e271d01-2d30-4a72-9518-6de1ae09bcfc')\"\n",
              "            title=\"Suggest charts\"\n",
              "            style=\"display:none;\">\n",
              "\n",
              "<svg xmlns=\"http://www.w3.org/2000/svg\" height=\"24px\"viewBox=\"0 0 24 24\"\n",
              "     width=\"24px\">\n",
              "    <g>\n",
              "        <path d=\"M19 3H5c-1.1 0-2 .9-2 2v14c0 1.1.9 2 2 2h14c1.1 0 2-.9 2-2V5c0-1.1-.9-2-2-2zM9 17H7v-7h2v7zm4 0h-2V7h2v10zm4 0h-2v-4h2v4z\"/>\n",
              "    </g>\n",
              "</svg>\n",
              "  </button>\n",
              "\n",
              "<style>\n",
              "  .colab-df-quickchart {\n",
              "      --bg-color: #E8F0FE;\n",
              "      --fill-color: #1967D2;\n",
              "      --hover-bg-color: #E2EBFA;\n",
              "      --hover-fill-color: #174EA6;\n",
              "      --disabled-fill-color: #AAA;\n",
              "      --disabled-bg-color: #DDD;\n",
              "  }\n",
              "\n",
              "  [theme=dark] .colab-df-quickchart {\n",
              "      --bg-color: #3B4455;\n",
              "      --fill-color: #D2E3FC;\n",
              "      --hover-bg-color: #434B5C;\n",
              "      --hover-fill-color: #FFFFFF;\n",
              "      --disabled-bg-color: #3B4455;\n",
              "      --disabled-fill-color: #666;\n",
              "  }\n",
              "\n",
              "  .colab-df-quickchart {\n",
              "    background-color: var(--bg-color);\n",
              "    border: none;\n",
              "    border-radius: 50%;\n",
              "    cursor: pointer;\n",
              "    display: none;\n",
              "    fill: var(--fill-color);\n",
              "    height: 32px;\n",
              "    padding: 0;\n",
              "    width: 32px;\n",
              "  }\n",
              "\n",
              "  .colab-df-quickchart:hover {\n",
              "    background-color: var(--hover-bg-color);\n",
              "    box-shadow: 0 1px 2px rgba(60, 64, 67, 0.3), 0 1px 3px 1px rgba(60, 64, 67, 0.15);\n",
              "    fill: var(--button-hover-fill-color);\n",
              "  }\n",
              "\n",
              "  .colab-df-quickchart-complete:disabled,\n",
              "  .colab-df-quickchart-complete:disabled:hover {\n",
              "    background-color: var(--disabled-bg-color);\n",
              "    fill: var(--disabled-fill-color);\n",
              "    box-shadow: none;\n",
              "  }\n",
              "\n",
              "  .colab-df-spinner {\n",
              "    border: 2px solid var(--fill-color);\n",
              "    border-color: transparent;\n",
              "    border-bottom-color: var(--fill-color);\n",
              "    animation:\n",
              "      spin 1s steps(1) infinite;\n",
              "  }\n",
              "\n",
              "  @keyframes spin {\n",
              "    0% {\n",
              "      border-color: transparent;\n",
              "      border-bottom-color: var(--fill-color);\n",
              "      border-left-color: var(--fill-color);\n",
              "    }\n",
              "    20% {\n",
              "      border-color: transparent;\n",
              "      border-left-color: var(--fill-color);\n",
              "      border-top-color: var(--fill-color);\n",
              "    }\n",
              "    30% {\n",
              "      border-color: transparent;\n",
              "      border-left-color: var(--fill-color);\n",
              "      border-top-color: var(--fill-color);\n",
              "      border-right-color: var(--fill-color);\n",
              "    }\n",
              "    40% {\n",
              "      border-color: transparent;\n",
              "      border-right-color: var(--fill-color);\n",
              "      border-top-color: var(--fill-color);\n",
              "    }\n",
              "    60% {\n",
              "      border-color: transparent;\n",
              "      border-right-color: var(--fill-color);\n",
              "    }\n",
              "    80% {\n",
              "      border-color: transparent;\n",
              "      border-right-color: var(--fill-color);\n",
              "      border-bottom-color: var(--fill-color);\n",
              "    }\n",
              "    90% {\n",
              "      border-color: transparent;\n",
              "      border-bottom-color: var(--fill-color);\n",
              "    }\n",
              "  }\n",
              "</style>\n",
              "\n",
              "  <script>\n",
              "    async function quickchart(key) {\n",
              "      const quickchartButtonEl =\n",
              "        document.querySelector('#' + key + ' button');\n",
              "      quickchartButtonEl.disabled = true;  // To prevent multiple clicks.\n",
              "      quickchartButtonEl.classList.add('colab-df-spinner');\n",
              "      try {\n",
              "        const charts = await google.colab.kernel.invokeFunction(\n",
              "            'suggestCharts', [key], {});\n",
              "      } catch (error) {\n",
              "        console.error('Error during call to suggestCharts:', error);\n",
              "      }\n",
              "      quickchartButtonEl.classList.remove('colab-df-spinner');\n",
              "      quickchartButtonEl.classList.add('colab-df-quickchart-complete');\n",
              "    }\n",
              "    (() => {\n",
              "      let quickchartButtonEl =\n",
              "        document.querySelector('#df-6e271d01-2d30-4a72-9518-6de1ae09bcfc button');\n",
              "      quickchartButtonEl.style.display =\n",
              "        google.colab.kernel.accessAllowed ? 'block' : 'none';\n",
              "    })();\n",
              "  </script>\n",
              "</div>\n",
              "\n",
              "  <div id=\"id_47ed8efb-2ec5-49f3-94c9-7f4dca55ddd3\">\n",
              "    <style>\n",
              "      .colab-df-generate {\n",
              "        background-color: #E8F0FE;\n",
              "        border: none;\n",
              "        border-radius: 50%;\n",
              "        cursor: pointer;\n",
              "        display: none;\n",
              "        fill: #1967D2;\n",
              "        height: 32px;\n",
              "        padding: 0 0 0 0;\n",
              "        width: 32px;\n",
              "      }\n",
              "\n",
              "      .colab-df-generate:hover {\n",
              "        background-color: #E2EBFA;\n",
              "        box-shadow: 0px 1px 2px rgba(60, 64, 67, 0.3), 0px 1px 3px 1px rgba(60, 64, 67, 0.15);\n",
              "        fill: #174EA6;\n",
              "      }\n",
              "\n",
              "      [theme=dark] .colab-df-generate {\n",
              "        background-color: #3B4455;\n",
              "        fill: #D2E3FC;\n",
              "      }\n",
              "\n",
              "      [theme=dark] .colab-df-generate:hover {\n",
              "        background-color: #434B5C;\n",
              "        box-shadow: 0px 1px 3px 1px rgba(0, 0, 0, 0.15);\n",
              "        filter: drop-shadow(0px 1px 2px rgba(0, 0, 0, 0.3));\n",
              "        fill: #FFFFFF;\n",
              "      }\n",
              "    </style>\n",
              "    <button class=\"colab-df-generate\" onclick=\"generateWithVariable('data')\"\n",
              "            title=\"Generate code using this dataframe.\"\n",
              "            style=\"display:none;\">\n",
              "\n",
              "  <svg xmlns=\"http://www.w3.org/2000/svg\" height=\"24px\"viewBox=\"0 0 24 24\"\n",
              "       width=\"24px\">\n",
              "    <path d=\"M7,19H8.4L18.45,9,17,7.55,7,17.6ZM5,21V16.75L18.45,3.32a2,2,0,0,1,2.83,0l1.4,1.43a1.91,1.91,0,0,1,.58,1.4,1.91,1.91,0,0,1-.58,1.4L9.25,21ZM18.45,9,17,7.55Zm-12,3A5.31,5.31,0,0,0,4.9,8.1,5.31,5.31,0,0,0,1,6.5,5.31,5.31,0,0,0,4.9,4.9,5.31,5.31,0,0,0,6.5,1,5.31,5.31,0,0,0,8.1,4.9,5.31,5.31,0,0,0,12,6.5,5.46,5.46,0,0,0,6.5,12Z\"/>\n",
              "  </svg>\n",
              "    </button>\n",
              "    <script>\n",
              "      (() => {\n",
              "      const buttonEl =\n",
              "        document.querySelector('#id_47ed8efb-2ec5-49f3-94c9-7f4dca55ddd3 button.colab-df-generate');\n",
              "      buttonEl.style.display =\n",
              "        google.colab.kernel.accessAllowed ? 'block' : 'none';\n",
              "\n",
              "      buttonEl.onclick = () => {\n",
              "        google.colab.notebook.generateWithVariable('data');\n",
              "      }\n",
              "      })();\n",
              "    </script>\n",
              "  </div>\n",
              "\n",
              "    </div>\n",
              "  </div>\n"
            ],
            "application/vnd.google.colaboratory.intrinsic+json": {
              "type": "dataframe",
              "variable_name": "data",
              "summary": "{\n  \"name\": \"data\",\n  \"rows\": 30162,\n  \"fields\": [\n    {\n      \"column\": \"age\",\n      \"properties\": {\n        \"dtype\": \"number\",\n        \"std\": 13,\n        \"min\": 17,\n        \"max\": 90,\n        \"num_unique_values\": 72,\n        \"samples\": [\n          38,\n          22,\n          49\n        ],\n        \"semantic_type\": \"\",\n        \"description\": \"\"\n      }\n    },\n    {\n      \"column\": \"workclass\",\n      \"properties\": {\n        \"dtype\": \"number\",\n        \"std\": 0,\n        \"min\": 0,\n        \"max\": 6,\n        \"num_unique_values\": 7,\n        \"samples\": [\n          2,\n          5,\n          1\n        ],\n        \"semantic_type\": \"\",\n        \"description\": \"\"\n      }\n    },\n    {\n      \"column\": \"fnlwgt\",\n      \"properties\": {\n        \"dtype\": \"number\",\n        \"std\": 0.0,\n        \"min\": -62374.625,\n        \"max\": -62374.625,\n        \"num_unique_values\": 1,\n        \"samples\": [\n          -62374.625\n        ],\n        \"semantic_type\": \"\",\n        \"description\": \"\"\n      }\n    },\n    {\n      \"column\": \"education\",\n      \"properties\": {\n        \"dtype\": \"number\",\n        \"std\": 3,\n        \"min\": 0,\n        \"max\": 15,\n        \"num_unique_values\": 16,\n        \"samples\": [\n          11\n        ],\n        \"semantic_type\": \"\",\n        \"description\": \"\"\n      }\n    },\n    {\n      \"column\": \"education.num\",\n      \"properties\": {\n        \"dtype\": \"number\",\n        \"std\": 2,\n        \"min\": 1,\n        \"max\": 16,\n        \"num_unique_values\": 16,\n        \"samples\": [\n          9\n        ],\n        \"semantic_type\": \"\",\n        \"description\": \"\"\n      }\n    },\n    {\n      \"column\": \"marital.status\",\n      \"properties\": {\n        \"dtype\": \"number\",\n        \"std\": 1,\n        \"min\": 0,\n        \"max\": 6,\n        \"num_unique_values\": 7,\n        \"samples\": [\n          6\n        ],\n        \"semantic_type\": \"\",\n        \"description\": \"\"\n      }\n    },\n    {\n      \"column\": \"occupation\",\n      \"properties\": {\n        \"dtype\": \"number\",\n        \"std\": 4,\n        \"min\": 0,\n        \"max\": 13,\n        \"num_unique_values\": 14,\n        \"samples\": [\n          12\n        ],\n        \"semantic_type\": \"\",\n        \"description\": \"\"\n      }\n    },\n    {\n      \"column\": \"relationship\",\n      \"properties\": {\n        \"dtype\": \"number\",\n        \"std\": 1,\n        \"min\": 0,\n        \"max\": 5,\n        \"num_unique_values\": 6,\n        \"samples\": [\n          1\n        ],\n        \"semantic_type\": \"\",\n        \"description\": \"\"\n      }\n    },\n    {\n      \"column\": \"race\",\n      \"properties\": {\n        \"dtype\": \"number\",\n        \"std\": 0,\n        \"min\": 0,\n        \"max\": 4,\n        \"num_unique_values\": 5,\n        \"samples\": [\n          2\n        ],\n        \"semantic_type\": \"\",\n        \"description\": \"\"\n      }\n    },\n    {\n      \"column\": \"sex\",\n      \"properties\": {\n        \"dtype\": \"number\",\n        \"std\": 0,\n        \"min\": 0,\n        \"max\": 1,\n        \"num_unique_values\": 2,\n        \"samples\": [\n          1\n        ],\n        \"semantic_type\": \"\",\n        \"description\": \"\"\n      }\n    },\n    {\n      \"column\": \"capital.gain\",\n      \"properties\": {\n        \"dtype\": \"number\",\n        \"std\": 7406,\n        \"min\": 0,\n        \"max\": 99999,\n        \"num_unique_values\": 118,\n        \"samples\": [\n          3887\n        ],\n        \"semantic_type\": \"\",\n        \"description\": \"\"\n      }\n    },\n    {\n      \"column\": \"capital.loss\",\n      \"properties\": {\n        \"dtype\": \"number\",\n        \"std\": 404,\n        \"min\": 0,\n        \"max\": 4356,\n        \"num_unique_values\": 90,\n        \"samples\": [\n          1974\n        ],\n        \"semantic_type\": \"\",\n        \"description\": \"\"\n      }\n    },\n    {\n      \"column\": \"hours.per.week\",\n      \"properties\": {\n        \"dtype\": \"number\",\n        \"std\": 7.207029647038376,\n        \"min\": 32.5,\n        \"max\": 52.5,\n        \"num_unique_values\": 2,\n        \"samples\": [\n          32.5\n        ],\n        \"semantic_type\": \"\",\n        \"description\": \"\"\n      }\n    },\n    {\n      \"column\": \"native.country\",\n      \"properties\": {\n        \"dtype\": \"number\",\n        \"std\": 6,\n        \"min\": 0,\n        \"max\": 40,\n        \"num_unique_values\": 41,\n        \"samples\": [\n          28\n        ],\n        \"semantic_type\": \"\",\n        \"description\": \"\"\n      }\n    },\n    {\n      \"column\": \"income\",\n      \"properties\": {\n        \"dtype\": \"number\",\n        \"std\": 0,\n        \"min\": -1,\n        \"max\": 1,\n        \"num_unique_values\": 2,\n        \"samples\": [\n          1\n        ],\n        \"semantic_type\": \"\",\n        \"description\": \"\"\n      }\n    }\n  ]\n}"
            }
          },
          "metadata": {},
          "execution_count": 20
        }
      ]
    },
    {
      "cell_type": "markdown",
      "source": [
        "# entrenamiento de modelo"
      ],
      "metadata": {
        "id": "DTRUHEldz2gH"
      }
    },
    {
      "cell_type": "code",
      "source": [
        "X = data.copy()\n",
        "X = X.drop(['income'], axis=1)\n",
        "print(X.shape)"
      ],
      "metadata": {
        "colab": {
          "base_uri": "https://localhost:8080/"
        },
        "id": "LBYFq7V5z90V",
        "outputId": "4fd25c8a-9782-4239-ec83-1ded28f8c1c7"
      },
      "execution_count": null,
      "outputs": [
        {
          "output_type": "stream",
          "name": "stdout",
          "text": [
            "(30162, 14)\n"
          ]
        }
      ]
    },
    {
      "cell_type": "code",
      "source": [
        "target = data.income\n",
        "\n",
        "# Transforma 'target' en un array de NumPy y cambia su forma a un array bidimensional\n",
        "target = target.values.reshape(-1,1)\n",
        "\n",
        "# Imprime 'target'\n",
        "print(target)"
      ],
      "metadata": {
        "colab": {
          "base_uri": "https://localhost:8080/"
        },
        "id": "et-uGX-T0B-_",
        "outputId": "04237451-6afe-4255-8ab1-bcc32f8f0caa"
      },
      "execution_count": null,
      "outputs": [
        {
          "output_type": "stream",
          "name": "stdout",
          "text": [
            "[[-1]\n",
            " [-1]\n",
            " [-1]\n",
            " ...\n",
            " [ 1]\n",
            " [-1]\n",
            " [-1]]\n"
          ]
        }
      ]
    },
    {
      "cell_type": "code",
      "source": [
        "\n",
        "from sklearn.model_selection import train_test_split\n",
        "X_train, X_test, y_train, y_test = train_test_split(X, target, test_size=0.30, random_state=42)"
      ],
      "metadata": {
        "id": "GdaBav8oz4cY"
      },
      "execution_count": null,
      "outputs": []
    },
    {
      "cell_type": "markdown",
      "source": [
        "# probar modelos para elegir 2"
      ],
      "metadata": {
        "id": "oYCM_NS70Gnb"
      }
    },
    {
      "cell_type": "code",
      "source": [
        "from sklearn.ensemble import GradientBoostingClassifier\n",
        "from sklearn.ensemble import AdaBoostClassifier\n",
        "from sklearn.naive_bayes import GaussianNB\n",
        "from sklearn.neural_network import MLPClassifier\n",
        "from xgboost import XGBClassifier\n",
        "from sklearn.linear_model import LogisticRegression\n",
        "from sklearn.tree import DecisionTreeClassifier\n",
        "from sklearn.svm import SVC\n",
        "from sklearn.neighbors import KNeighborsClassifier\n",
        "from sklearn.ensemble import RandomForestClassifier\n",
        "from sklearn.metrics import accuracy_score\n",
        "\n",
        "# Define los modelos\n",
        "models = {\n",
        "    \"logistic\": LogisticRegression(),\n",
        "    \"decision_tree\": DecisionTreeClassifier(),\n",
        "    \"svm\": SVC(),\n",
        "    \"knn\": KNeighborsClassifier(),\n",
        "    \"random_forest\": RandomForestClassifier(),\n",
        "\n",
        "}\n",
        "\n",
        "# Entrena y evalúa cada modelo\n",
        "for name, model in models.items():\n",
        "    # Entrena el modelo\n",
        "    model.fit(X_train, y_train)\n",
        "\n",
        "    # Realiza predicciones\n",
        "    predictions = model.predict(X_test)\n",
        "\n",
        "    # Calcula la precisión del modelo\n",
        "    accuracy = accuracy_score(y_test, predictions)\n",
        "\n",
        "    print(f\"Modelo: {name}, Precisión: {accuracy}\")"
      ],
      "metadata": {
        "colab": {
          "base_uri": "https://localhost:8080/"
        },
        "id": "PylFffGHzm8X",
        "outputId": "825ed3a4-d328-4878-e846-b041d13fabf8"
      },
      "execution_count": null,
      "outputs": [
        {
          "output_type": "stream",
          "name": "stderr",
          "text": [
            "/usr/local/lib/python3.10/dist-packages/sklearn/utils/validation.py:1143: DataConversionWarning: A column-vector y was passed when a 1d array was expected. Please change the shape of y to (n_samples, ), for example using ravel().\n",
            "  y = column_or_1d(y, warn=True)\n",
            "/usr/local/lib/python3.10/dist-packages/sklearn/linear_model/_logistic.py:458: ConvergenceWarning: lbfgs failed to converge (status=1):\n",
            "STOP: TOTAL NO. of ITERATIONS REACHED LIMIT.\n",
            "\n",
            "Increase the number of iterations (max_iter) or scale the data as shown in:\n",
            "    https://scikit-learn.org/stable/modules/preprocessing.html\n",
            "Please also refer to the documentation for alternative solver options:\n",
            "    https://scikit-learn.org/stable/modules/linear_model.html#logistic-regression\n",
            "  n_iter_i = _check_optimize_result(\n",
            "/usr/local/lib/python3.10/dist-packages/sklearn/utils/validation.py:1143: DataConversionWarning: A column-vector y was passed when a 1d array was expected. Please change the shape of y to (n_samples, ), for example using ravel().\n",
            "  y = column_or_1d(y, warn=True)\n"
          ]
        },
        {
          "output_type": "stream",
          "name": "stdout",
          "text": [
            "Modelo: logistic, Precisión: 0.7998673886617306\n",
            "Modelo: decision_tree, Precisión: 0.8141231075256935\n",
            "Modelo: svm, Precisión: 0.7851696320035363\n"
          ]
        },
        {
          "output_type": "stream",
          "name": "stderr",
          "text": [
            "/usr/local/lib/python3.10/dist-packages/sklearn/neighbors/_classification.py:215: DataConversionWarning: A column-vector y was passed when a 1d array was expected. Please change the shape of y to (n_samples,), for example using ravel().\n",
            "  return self._fit(X, y)\n"
          ]
        },
        {
          "output_type": "stream",
          "name": "stdout",
          "text": [
            "Modelo: knn, Precisión: 0.8388772240026522\n"
          ]
        },
        {
          "output_type": "stream",
          "name": "stderr",
          "text": [
            "<ipython-input-10-0e9704aa5578>:26: DataConversionWarning: A column-vector y was passed when a 1d array was expected. Please change the shape of y to (n_samples,), for example using ravel().\n",
            "  model.fit(X_train, y_train)\n"
          ]
        },
        {
          "output_type": "stream",
          "name": "stdout",
          "text": [
            "Modelo: random_forest, Precisión: 0.8428555641507349\n"
          ]
        }
      ]
    },
    {
      "cell_type": "markdown",
      "source": [
        "# Random Forest"
      ],
      "metadata": {
        "id": "0mpVC72u6N5q"
      }
    },
    {
      "cell_type": "code",
      "source": [
        "from sklearn.metrics import precision_score, recall_score, f1_score\n",
        "\n",
        "# Entrena el modelo de Random Forest\n",
        "random_forest = RandomForestClassifier()\n",
        "random_forest.fit(X_train, y_train)\n",
        "\n",
        "# Realiza predicciones\n",
        "predictions_rf = random_forest.predict(X_test)\n",
        "\n",
        "# Calcula las métricas\n",
        "precision_rf = precision_score(y_test, predictions_rf)\n",
        "recall_rf = recall_score(y_test, predictions_rf)\n",
        "f1_rf = f1_score(y_test, predictions_rf)\n",
        "accuracy_rf = accuracy_score(y_test, predictions_rf)\n",
        "\n",
        "# Imprime las métricas\n",
        "print(f'Precision: {precision_rf}')\n",
        "print(f'Recall: {recall_rf}')\n",
        "print(f'F1 Score: {f1_rf}')\n",
        "print(f'Accuracy: {accuracy_rf}')\n",
        "\n",
        "\n"
      ],
      "metadata": {
        "colab": {
          "base_uri": "https://localhost:8080/"
        },
        "id": "AuzwkVSnzg19",
        "outputId": "2ed486af-1d6e-4114-d6b5-dea4adfb8502"
      },
      "execution_count": null,
      "outputs": [
        {
          "output_type": "stream",
          "name": "stderr",
          "text": [
            "<ipython-input-33-7f8a43068051>:5: DataConversionWarning: A column-vector y was passed when a 1d array was expected. Please change the shape of y to (n_samples,), for example using ravel().\n",
            "  random_forest.fit(X_train, y_train)\n"
          ]
        },
        {
          "output_type": "stream",
          "name": "stdout",
          "text": [
            "Precision: 0.7173699705593719\n",
            "Recall: 0.6370370370370371\n",
            "F1 Score: 0.6748211400876991\n",
            "Accuracy: 0.8442921869819869\n"
          ]
        }
      ]
    },
    {
      "cell_type": "markdown",
      "source": [
        "# curva roc"
      ],
      "metadata": {
        "id": "4oOA-yX85IXf"
      }
    },
    {
      "cell_type": "code",
      "source": [
        "from sklearn.metrics import roc_curve, auc\n",
        "import matplotlib.pyplot as plt\n",
        "\n",
        "# Calcula las probabilidades de las clases\n",
        "probs_rf = random_forest.predict_proba(X_test)\n",
        "\n",
        "# Calcula la curva ROC\n",
        "fpr_rf, tpr_rf, thresholds_rf = roc_curve(y_test, probs_rf[:,1])\n",
        "\n",
        "# Calcula el área bajo la curva ROC\n",
        "roc_auc_rf = auc(fpr_rf, tpr_rf)\n",
        "\n",
        "# Grafica la curva ROC\n",
        "plt.figure()\n",
        "plt.plot(fpr_rf, tpr_rf, color='darkorange', lw=2, label='ROC curve (area = %0.2f)' % roc_auc_rf)\n",
        "plt.plot([0, 1], [0, 1], color='navy', lw=2, linestyle='--')\n",
        "plt.xlim([0.0, 1.0])\n",
        "plt.ylim([0.0, 1.05])\n",
        "plt.xlabel('False Positive Rate')\n",
        "plt.ylabel('True Positive Rate')\n",
        "plt.title('Receiver Operating Characteristic - Random Forest')\n",
        "plt.legend(loc=\"lower right\")\n",
        "plt.show()\n"
      ],
      "metadata": {
        "colab": {
          "base_uri": "https://localhost:8080/",
          "height": 472
        },
        "id": "USgOrfV_5JT5",
        "outputId": "a9ea013b-3965-4329-b654-1067f7fcba86"
      },
      "execution_count": null,
      "outputs": [
        {
          "output_type": "display_data",
          "data": {
            "text/plain": [
              "<Figure size 640x480 with 1 Axes>"
            ],
            "image/png": "[encoded data removed]"
          },
          "metadata": {}
        }
      ]
    },
    {
      "cell_type": "markdown",
      "source": [
        "randomized para randomForest"
      ],
      "metadata": {
        "id": "DmKj9B6o6YvN"
      }
    },
    {
      "cell_type": "code",
      "source": [
        "from sklearn.model_selection import RandomizedSearchCV\n",
        "from scipy.stats import randint\n",
        "\n",
        "# Define los hiperparámetros que quieres probar\n",
        "param_dist = {\n",
        "    'n_estimators': randint(100, 500),\n",
        "    'max_depth': randint(1, 10),\n",
        "    'min_samples_split': randint(2, 10),\n",
        "    'min_samples_leaf': randint(1, 10),\n",
        "    'bootstrap': [True, False]\n",
        "}\n",
        "\n",
        "# Crea una instancia de RandomizedSearchCV\n",
        "random_search = RandomizedSearchCV(RandomForestClassifier(), param_distributions=param_dist, n_iter=100, cv=5)\n",
        "\n",
        "# Ajusta RandomizedSearchCV a tus datos de entrenamiento\n",
        "random_search.fit(X_train, y_train)\n",
        "\n",
        "# Muestra los mejores hiperparámetros encontrados\n",
        "print(\"Mejores hiperparámetros: \", random_search.best_params_)\n",
        "\n",
        "# Usa el mejor modelo para hacer predicciones\n",
        "predictions = random_search.predict(X_test)"
      ],
      "metadata": {
        "id": "J_XyOl0Z6btq"
      },
      "execution_count": null,
      "outputs": []
    },
    {
      "cell_type": "markdown",
      "source": [
        "Mejores hiperparámetros:  {'bootstrap': False, 'max_depth': 9, 'min_samples_leaf': 3, 'min_samples_split': 3, 'n_estimators': 450}"
      ],
      "metadata": {
        "id": "NJ-EMv-O68Zc"
      }
    },
    {
      "cell_type": "code",
      "source": [
        "#aplicando con los mejores parametros lanzados\n",
        "model_rf=RandomForestClassifier(n_estimators=450, max_depth=9, min_samples_leaf=3, min_samples_split=3, bootstrap=False)\n",
        "\n",
        "model_rf.fit(X_train, y_train)\n",
        "\n",
        "predictions=model_rf.predict(X_test)\n",
        "\n",
        "# Calcula las métricas\n",
        "precision_rf = precision_score(y_test, predictions)\n",
        "recall_rf = recall_score(y_test, predictions)\n",
        "f1_rf = f1_score(y_test, predictions)\n",
        "\n",
        "\n",
        "# Imprime las métricas\n",
        "print(f\"Random Forest - Precisión: {precision_rf}, Recall: {recall_rf}, F1: {f1_rf}\")"
      ],
      "metadata": {
        "colab": {
          "base_uri": "https://localhost:8080/"
        },
        "id": "AN9TE3c069Rp",
        "outputId": "33d74f78-9737-4ce4-a8d3-50a265d88bc3"
      },
      "execution_count": null,
      "outputs": [
        {
          "output_type": "stream",
          "name": "stderr",
          "text": [
            "<ipython-input-36-2de819296231>:4: DataConversionWarning: A column-vector y was passed when a 1d array was expected. Please change the shape of y to (n_samples,), for example using ravel().\n",
            "  model_rf.fit(X_train, y_train)\n"
          ]
        },
        {
          "output_type": "stream",
          "name": "stdout",
          "text": [
            "Random Forest - Precisión: 0.8019354838709677, Recall: 0.5416122004357299, F1: 0.6465539661898569\n"
          ]
        }
      ]
    },
    {
      "cell_type": "markdown",
      "source": [
        "curva roc nuevamente"
      ],
      "metadata": {
        "id": "-7xws4l77KLs"
      }
    },
    {
      "cell_type": "code",
      "source": [
        "from sklearn.metrics import roc_curve, auc\n",
        "import matplotlib.pyplot as plt\n",
        "\n",
        "# Calcular las probabilidades de las clases\n",
        "probs_rf = model_rf.predict_proba(X_test)\n",
        "\n",
        "# Calcular la curva ROC\n",
        "fpr_rf, tpr_rf, thresholds_rf = roc_curve(y_test, probs_rf[:,1])\n",
        "\n",
        "# Calcular el área bajo la curva ROC\n",
        "roc_auc_rf = auc(fpr_rf, tpr_rf)\n",
        "\n",
        "# Grafica la curva ROC\n",
        "plt.figure()\n",
        "plt.plot(fpr_rf, tpr_rf, color='darkorange', lw=2, label='ROC curve (area = %0.2f)' % roc_auc_rf)\n",
        "plt.plot([0, 1], [0, 1], color='navy', lw=2, linestyle='--')\n",
        "plt.xlim([0.0, 1.0])\n",
        "plt.ylim([0.0, 1.05])\n",
        "plt.xlabel('False Positive Rate')\n",
        "plt.ylabel('True Positive Rate')\n",
        "plt.title('Receiver Operating Characteristic - Random Forest')\n",
        "plt.legend(loc=\"lower right\")\n",
        "plt.show()"
      ],
      "metadata": {
        "colab": {
          "base_uri": "https://localhost:8080/",
          "height": 472
        },
        "id": "EODKBYUj7La9",
        "outputId": "7c3f7d57-9d64-4e5c-8531-07e8c5c2c82b"
      },
      "execution_count": null,
      "outputs": [
        {
          "output_type": "display_data",
          "data": {
            "text/plain": [
              "<Figure size 640x480 with 1 Axes>"
            ],
            "image/png": "[encoded data removed]"
          },
          "metadata": {}
        }
      ]
    },
    {
      "cell_type": "markdown",
      "source": [
        "# pruebas de predicciones de reales vs predicciones"
      ],
      "metadata": {
        "id": "9ruaUmZB7O6A"
      }
    },
    {
      "cell_type": "code",
      "source": [
        "import pandas as pd\n",
        "\n",
        "\n",
        "y_test_df = pd.DataFrame(y_test)\n",
        "predictions_df = pd.DataFrame(predictions)\n",
        "\n",
        "\n",
        "comparison = pd.concat([y_test_df.reset_index(drop=True), predictions_df.reset_index(drop=True)], axis=1)\n",
        "\n",
        "\n",
        "comparison.columns = ['Real', 'Predicted']\n",
        "\n",
        "# Muestra las primeras filas del DataFrame\n",
        "print(comparison.head(5))"
      ],
      "metadata": {
        "colab": {
          "base_uri": "https://localhost:8080/"
        },
        "id": "bYumLZD17SBb",
        "outputId": "bea49ec6-efe1-484a-d044-6d7e5f43250f"
      },
      "execution_count": null,
      "outputs": [
        {
          "output_type": "stream",
          "name": "stdout",
          "text": [
            "   Real  Predicted\n",
            "0    -1         -1\n",
            "1    -1         -1\n",
            "2    -1         -1\n",
            "3     1         -1\n",
            "4     1          1\n"
          ]
        }
      ]
    },
    {
      "cell_type": "code",
      "source": [
        "# Informe de clasificación\n",
        "cr = classification_report(y_test, predictions)\n",
        "print('Informe de clasificación:')\n",
        "print(cr)"
      ],
      "metadata": {
        "colab": {
          "base_uri": "https://localhost:8080/"
        },
        "id": "MBEL4DyY_vr7",
        "outputId": "dc5df8da-9203-4c94-c619-6822c88e4c28"
      },
      "execution_count": null,
      "outputs": [
        {
          "output_type": "stream",
          "name": "stdout",
          "text": [
            "Informe de clasificación:\n",
            "              precision    recall  f1-score   support\n",
            "\n",
            "          -1       0.86      0.95      0.90      6754\n",
            "           1       0.80      0.54      0.65      2295\n",
            "\n",
            "    accuracy                           0.85      9049\n",
            "   macro avg       0.83      0.75      0.78      9049\n",
            "weighted avg       0.85      0.85      0.84      9049\n",
            "\n"
          ]
        }
      ]
    },
    {
      "cell_type": "markdown",
      "source": [
        "# Knn modelo"
      ],
      "metadata": {
        "id": "di_TgOlk7fA0"
      }
    },
    {
      "cell_type": "code",
      "source": [
        "# Entrena el modelo de KNN\n",
        "knn = KNeighborsClassifier()\n",
        "knn.fit(X_train, y_train)\n",
        "\n",
        "# Realiza predicciones\n",
        "predictions_knn = knn.predict(X_test)\n",
        "\n",
        "# Calcula las métricas\n",
        "precision_knn = precision_score(y_test, predictions_knn)\n",
        "recall_knn = recall_score(y_test, predictions_knn)\n",
        "f1_knn = f1_score(y_test, predictions_knn)\n",
        "accuracy_knn = accuracy_score(y_test, predictions_knn)\n",
        "\n",
        "\n",
        "# Imprime las métricas\n",
        "print(f'Precision: {precision_knn}')\n",
        "print(f'Recall: {recall_knn}')\n",
        "print(f'F1 Score: {f1_knn}')\n",
        "print(f'Accuracy: {accuracy_knn}')\n"
      ],
      "metadata": {
        "colab": {
          "base_uri": "https://localhost:8080/"
        },
        "id": "yb7pozwl7hA4",
        "outputId": "d2ff24bb-418a-4cd0-de18-488f185272ac"
      },
      "execution_count": null,
      "outputs": [
        {
          "output_type": "stream",
          "name": "stderr",
          "text": [
            "/usr/local/lib/python3.10/dist-packages/sklearn/neighbors/_classification.py:215: DataConversionWarning: A column-vector y was passed when a 1d array was expected. Please change the shape of y to (n_samples,), for example using ravel().\n",
            "  return self._fit(X, y)\n"
          ]
        },
        {
          "output_type": "stream",
          "name": "stdout",
          "text": [
            "Precision: 0.7056511056511057\n",
            "Recall: 0.6257080610021787\n",
            "F1 Score: 0.6632794457274827\n",
            "Accuracy: 0.8388772240026522\n"
          ]
        }
      ]
    },
    {
      "cell_type": "markdown",
      "source": [
        "# curva roc"
      ],
      "metadata": {
        "id": "2jcQAcU796L7"
      }
    },
    {
      "cell_type": "code",
      "source": [
        "# Calcula las probabilidades de las clases\n",
        "probs_knn = knn.predict_proba(X_test)\n",
        "\n",
        "# Calcula la curva ROC\n",
        "fpr_knn, tpr_knn, thresholds_knn = roc_curve(y_test, probs_knn[:,1])\n",
        "\n",
        "# Calcula el área bajo la curva ROC\n",
        "roc_auc_knn = auc(fpr_knn, tpr_knn)\n",
        "\n",
        "# Grafica la curva ROC\n",
        "plt.figure()\n",
        "plt.plot(fpr_knn, tpr_knn, color='darkorange', lw=2, label='ROC curve (area = %0.2f)' % roc_auc_knn)\n",
        "plt.plot([0, 1], [0, 1], color='navy', lw=2, linestyle='--')\n",
        "plt.xlim([0.0, 1.0])\n",
        "plt.ylim([0.0, 1.05])\n",
        "plt.xlabel('False Positive Rate')\n",
        "plt.ylabel('True Positive Rate')\n",
        "plt.title('Receiver Operating Characteristic - KNN')\n",
        "plt.legend(loc=\"lower right\")\n",
        "plt.show()"
      ],
      "metadata": {
        "colab": {
          "base_uri": "https://localhost:8080/",
          "height": 472
        },
        "id": "bw5w8Dj797cH",
        "outputId": "9257b394-4841-427e-d399-242b7d0cf3c6"
      },
      "execution_count": null,
      "outputs": [
        {
          "output_type": "display_data",
          "data": {
            "text/plain": [
              "<Figure size 640x480 with 1 Axes>"
            ],
            "image/png": "[encoded data removed]"
          },
          "metadata": {}
        }
      ]
    },
    {
      "cell_type": "markdown",
      "source": [
        "# randomized para knn"
      ],
      "metadata": {
        "id": "qU-QYjK0-BtP"
      }
    },
    {
      "cell_type": "code",
      "source": [
        "from sklearn.model_selection import RandomizedSearchCV\n",
        "from scipy.stats import randint\n",
        "\n",
        "# Define los hiperparámetros que quieres probar\n",
        "param_dist = {\n",
        "    'n_neighbors': randint(1, 50),\n",
        "    'weights': ['uniform', 'distance'],\n",
        "    'algorithm': ['auto', 'ball_tree', 'kd_tree', 'brute'],\n",
        "    'p': randint(1, 2)\n",
        "}\n",
        "\n",
        "# CreaR una instancia de RandomizedSearchCV\n",
        "random_search = RandomizedSearchCV(KNeighborsClassifier(), param_distributions=param_dist, n_iter=100, cv=5)\n",
        "\n",
        "# AjustaR RandomizedSearchCV a tus datos de entrenamiento\n",
        "random_search.fit(X_train, y_train)\n",
        "\n",
        "# Mostrar los mejores hiperparámetros encontrados\n",
        "print(\"Mejores hiperparámetros: \", random_search.best_params_)\n",
        "\n",
        "# Usar el mejor modelo para hacer predicciones\n",
        "predictions = random_search.predict(X_test)"
      ],
      "metadata": {
        "id": "sIUEXgng-DYB"
      },
      "execution_count": null,
      "outputs": []
    },
    {
      "cell_type": "markdown",
      "source": [
        "Mejores hiperparámetros:  {'algorithm': 'ball_tree', 'n_neighbors': 10, 'p': 1, 'weights': 'uniform'}"
      ],
      "metadata": {
        "id": "HiCxDPZs-IpC"
      }
    },
    {
      "cell_type": "code",
      "source": [
        "from sklearn.neighbors import KNeighborsClassifier\n",
        "from sklearn.metrics import precision_score, recall_score, f1_score, confusion_matrix\n",
        "\n",
        "\n",
        "model_knn = KNeighborsClassifier(algorithm='ball_tree', n_neighbors=10, p=1, weights='uniform')\n",
        "\n",
        "\n",
        "model_knn.fit(X_train, y_train)\n",
        "\n",
        "\n",
        "predictions_knn = model_knn.predict(X_test)\n",
        "\n",
        "\n",
        "precision_knn = precision_score(y_test, predictions_knn)\n",
        "recall_knn = recall_score(y_test, predictions_knn)\n",
        "f1_knn = f1_score(y_test, predictions_knn)\n",
        "accuracy_knn = accuracy_score(y_test, predictions_knn)\n",
        "\n",
        "\n",
        "# Imprime las métricas\n",
        "print(f'Precision: {precision_knn}')\n",
        "print(f'Recall: {recall_knn}')\n",
        "print(f'F1 Score: {f1_knn}')\n",
        "print(f'Accuracy: {accuracy_knn}')"
      ],
      "metadata": {
        "colab": {
          "base_uri": "https://localhost:8080/"
        },
        "id": "9E_GVt9Z-JR9",
        "outputId": "fd386d98-7c3b-4796-bc29-dc77fb5fef7b"
      },
      "execution_count": null,
      "outputs": [
        {
          "output_type": "stream",
          "name": "stderr",
          "text": [
            "/usr/local/lib/python3.10/dist-packages/sklearn/neighbors/_classification.py:215: DataConversionWarning: A column-vector y was passed when a 1d array was expected. Please change the shape of y to (n_samples,), for example using ravel().\n",
            "  return self._fit(X, y)\n"
          ]
        },
        {
          "output_type": "stream",
          "name": "stdout",
          "text": [
            "Precision: 0.76702307259426\n",
            "Recall: 0.5938997821350762\n",
            "F1 Score: 0.6694499017681728\n",
            "Accuracy: 0.8512542822411316\n"
          ]
        }
      ]
    },
    {
      "cell_type": "code",
      "source": [
        "from sklearn.metrics import roc_curve, auc\n",
        "import matplotlib.pyplot as plt\n",
        "\n",
        "\n",
        "probs_knn = model_knn.predict_proba(X_test)\n",
        "\n",
        "\n",
        "fpr_knn, tpr_knn, thresholds_knn = roc_curve(y_test, probs_knn[:,1])\n",
        "\n",
        "\n",
        "roc_auc_knn = auc(fpr_knn, tpr_knn)\n",
        "\n",
        "# Grafica la curva ROC\n",
        "plt.figure()\n",
        "plt.plot(fpr_knn, tpr_knn, color='darkorange', lw=2, label='ROC curve (area = %0.2f)' % roc_auc_knn)\n",
        "plt.plot([0, 1], [0, 1], color='navy', lw=2, linestyle='--')\n",
        "plt.xlim([0.0, 1.0])\n",
        "plt.ylim([0.0, 1.05])\n",
        "plt.xlabel('False Positive Rate')\n",
        "plt.ylabel('True Positive Rate')\n",
        "plt.title('Receiver Operating Characteristic - KNN')\n",
        "plt.legend(loc=\"lower right\")\n",
        "plt.show()"
      ],
      "metadata": {
        "colab": {
          "base_uri": "https://localhost:8080/",
          "height": 472
        },
        "id": "MuvHkTmm-XQN",
        "outputId": "60a1ab35-5ea4-4564-9801-6fe4a0e54d7a"
      },
      "execution_count": null,
      "outputs": [
        {
          "output_type": "display_data",
          "data": {
            "text/plain": [
              "<Figure size 640x480 with 1 Axes>"
            ],
            "image/png": "[encoded data removed]"
          },
          "metadata": {}
        }
      ]
    },
    {
      "cell_type": "markdown",
      "source": [
        "evaluacion"
      ],
      "metadata": {
        "id": "ZsBfY4Q7-3zF"
      }
    },
    {
      "cell_type": "code",
      "source": [
        "import pandas as pd\n",
        "\n",
        "# Realiza predicciones con KNN\n",
        "predictions_knn = knn.predict(X_test)\n",
        "\n",
        "# Crea DataFrames para las etiquetas reales y las predichas\n",
        "y_test_df_knn = pd.DataFrame(y_test)\n",
        "predictions_df_knn = pd.DataFrame(predictions_knn)\n",
        "\n",
        "# Concatena los DataFrames\n",
        "comparison_knn = pd.concat([y_test_df_knn.reset_index(drop=True), predictions_df_knn.reset_index(drop=True)], axis=1)\n",
        "\n",
        "# Asigna nombres a las columnas\n",
        "comparison_knn.columns = ['Real', 'Predicted_KNN']\n",
        "\n",
        "# Muestra las primeras filas del DataFrame\n",
        "print(comparison_knn.head(3))\n"
      ],
      "metadata": {
        "colab": {
          "base_uri": "https://localhost:8080/"
        },
        "id": "sJqCMxqQ-4wm",
        "outputId": "3e3990c1-d5ad-48ff-9bb7-1636c0c5c198"
      },
      "execution_count": null,
      "outputs": [
        {
          "output_type": "stream",
          "name": "stdout",
          "text": [
            "   Real  Predicted_KNN\n",
            "0    -1             -1\n",
            "1    -1             -1\n",
            "2    -1             -1\n"
          ]
        }
      ]
    },
    {
      "cell_type": "code",
      "source": [
        "from sklearn.metrics import classification_report\n",
        "\n",
        "# Informe de clasificación para Random Forest\n",
        "cr_rf = classification_report(y_test, predictions_rf)\n",
        "print('Informe de clasificación para Random Forest:')\n",
        "print(cr_rf)\n"
      ],
      "metadata": {
        "colab": {
          "base_uri": "https://localhost:8080/"
        },
        "id": "7WUSKtNW_stg",
        "outputId": "fcb73640-ff41-4da6-9d3b-e648ae432c38"
      },
      "execution_count": null,
      "outputs": [
        {
          "output_type": "stream",
          "name": "stdout",
          "text": [
            "Informe de clasificación para Random Forest:\n",
            "              precision    recall  f1-score   support\n",
            "\n",
            "          -1       0.88      0.91      0.90      6754\n",
            "           1       0.72      0.64      0.67      2295\n",
            "\n",
            "    accuracy                           0.84      9049\n",
            "   macro avg       0.80      0.78      0.79      9049\n",
            "weighted avg       0.84      0.84      0.84      9049\n",
            "\n"
          ]
        }
      ]
    }
  ]
}